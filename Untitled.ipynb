{
 "cells": [
  {
   "cell_type": "code",
   "execution_count": null,
   "id": "03f2b5da-de14-4ca8-863d-490442578f70",
   "metadata": {},
   "outputs": [
    {
     "name": "stderr",
     "output_type": "stream",
     "text": [
      "Process SpawnPoolWorker-1:\n",
      "Process SpawnPoolWorker-2:\n",
      "Traceback (most recent call last):\n",
      "Traceback (most recent call last):\n",
      "  File \"/Library/Frameworks/Python.framework/Versions/3.12/lib/python3.12/multiprocessing/process.py\", line 314, in _bootstrap\n",
      "    self.run()\n",
      "  File \"/Library/Frameworks/Python.framework/Versions/3.12/lib/python3.12/multiprocessing/process.py\", line 314, in _bootstrap\n",
      "    self.run()\n",
      "  File \"/Library/Frameworks/Python.framework/Versions/3.12/lib/python3.12/multiprocessing/process.py\", line 108, in run\n",
      "    self._target(*self._args, **self._kwargs)\n",
      "  File \"/Library/Frameworks/Python.framework/Versions/3.12/lib/python3.12/multiprocessing/process.py\", line 108, in run\n",
      "    self._target(*self._args, **self._kwargs)\n",
      "  File \"/Library/Frameworks/Python.framework/Versions/3.12/lib/python3.12/multiprocessing/pool.py\", line 114, in worker\n",
      "    task = get()\n",
      "           ^^^^^\n",
      "  File \"/Library/Frameworks/Python.framework/Versions/3.12/lib/python3.12/multiprocessing/queues.py\", line 369, in get\n",
      "    return _ForkingPickler.loads(res)\n",
      "           ^^^^^^^^^^^^^^^^^^^^^^^^^^\n",
      "  File \"/Library/Frameworks/Python.framework/Versions/3.12/lib/python3.12/multiprocessing/pool.py\", line 114, in worker\n",
      "    task = get()\n",
      "           ^^^^^\n",
      "  File \"/Library/Frameworks/Python.framework/Versions/3.12/lib/python3.12/multiprocessing/queues.py\", line 369, in get\n",
      "    return _ForkingPickler.loads(res)\n",
      "           ^^^^^^^^^^^^^^^^^^^^^^^^^^\n",
      "AttributeError: Can't get attribute 'Problem_2' on <module '__main__' (<class '_frozen_importlib.BuiltinImporter'>)>\n",
      "AttributeError: Can't get attribute 'Problem_2' on <module '__main__' (<class '_frozen_importlib.BuiltinImporter'>)>\n"
     ]
    }
   ],
   "source": [
    "#mandelbrot spmd\n",
    "import numpy as np\n",
    "import matplotlib.pyplot as plt\n",
    "from multiprocessing import Pool\n",
    "\n",
    "def Problem_2(a2, b2, c2, maxit=1200):\n",
    "    xm, xx, ym, yx = a2[0], a2[1], b2[0], b2[1]\n",
    "    z2 = (xx - xm) / c2\n",
    "    u2 = (yx - ym) / c2\n",
    "\n",
    "    Problem2_result = np.zeros((c2, c2), dtype=int)\n",
    "    for x2 in range(c2):\n",
    "        for y2 in range(c2):\n",
    "            e2 = xm + x2 * z2\n",
    "            f2 = ym + y2 * u2\n",
    "            g2 = complex(e2, f2)\n",
    "            h2= 0\n",
    "            for i in range(maxit):\n",
    "                if abs(h2) > 2.0:\n",
    "                    break\n",
    "                h2 = h2 * h2 + g2\n",
    "            Problem2_result[x2, y2] = i\n",
    "    return Problem2_result\n",
    "\n",
    "def Prob(gs, bs):\n",
    "    l1 = (-2.0, 1.0)\n",
    "    l2 = (-1.5, 1.5)\n",
    "    r1 = np.zeros((gs, gs), dtype=int)\n",
    "\n",
    "    p2 = Pool(processes=4)\n",
    "    br = p2.starmap(\n",
    "    Problem_2, [(l1, l2,bs)] * (gs // bs))\n",
    "    for i in range(gs // bs):\n",
    "        for j in range(gs // bs):\n",
    "            r1[i * bs:(i + 1) *bs,j *bs:(j + 1)* bs]=br[i]\n",
    "    plt.imshow(r1, extent=[l1[0], l1[1], \n",
    "                           l2[0], l2[1]], cmap=\"inferno\")\n",
    "\n",
    "if __name__ == \"__main__\":\n",
    "    gsize = 1500\n",
    "    bsize = gsize // 2 \n",
    "    Prob(gsize, bsize)\n",
    "    plt.axis('image')\n",
    "plt.axis('off')\n",
    "plt.show()"
   ]
  },
  {
   "cell_type": "code",
   "execution_count": null,
   "id": "0cb5fd41-729c-4a85-bec5-73e51856d6d8",
   "metadata": {},
   "outputs": [],
   "source": []
  }
 ],
 "metadata": {
  "kernelspec": {
   "display_name": "Python 3 (ipykernel)",
   "language": "python",
   "name": "python3"
  },
  "language_info": {
   "codemirror_mode": {
    "name": "ipython",
    "version": 3
   },
   "file_extension": ".py",
   "mimetype": "text/x-python",
   "name": "python",
   "nbconvert_exporter": "python",
   "pygments_lexer": "ipython3",
   "version": "3.12.0"
  }
 },
 "nbformat": 4,
 "nbformat_minor": 5
}
